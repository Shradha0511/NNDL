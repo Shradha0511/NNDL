{
 "cells": [
  {
   "cell_type": "markdown",
   "id": "587f0c75",
   "metadata": {},
   "source": [
    "### NEURAL NETWORKS AND DEEP LEARNING"
   ]
  },
  {
   "cell_type": "markdown",
   "id": "5f0b4253",
   "metadata": {},
   "source": [
    "#### NNDL LAB Program Lists - Lab 03"
   ]
  },
  {
   "cell_type": "markdown",
   "id": "eb68eab0",
   "metadata": {},
   "source": [
    "#### 2448050"
   ]
  },
  {
   "cell_type": "markdown",
   "id": "ab050f26",
   "metadata": {},
   "source": [
    "##### Program 1\n",
    "Implementing Smart Farming Decisions Using MADALINE Neural Network: Irrigation and Equipment Deployment Automation."
   ]
  },
  {
   "cell_type": "code",
   "execution_count": null,
   "id": "9c7478d8",
   "metadata": {},
   "outputs": [
    {
     "name": "stdout",
     "output_type": "stream",
     "text": [
      "\n",
      " SMART FARMING DECISIONS \n",
      "\n",
      "Sensor Input 1: [ 1  1  1  1 -1]\n",
      " Irrigation Decision     : ON\n",
      " Equipment Deployment    : DO NOT DEPLOY\n",
      "\n",
      "Sensor Input 2: [-1  1 -1  1  1]\n",
      " Irrigation Decision     : OFF\n",
      " Equipment Deployment    : DEPLOY\n",
      "\n",
      "Sensor Input 3: [ 1 -1  1 -1  1]\n",
      " Irrigation Decision     : OFF\n",
      " Equipment Deployment    : DO NOT DEPLOY\n",
      "\n",
      "Sensor Input 4: [1 1 1 1 1]\n",
      " Irrigation Decision     : ON\n",
      " Equipment Deployment    : DEPLOY\n",
      "\n",
      "Sensor Input 5: [-1 -1 -1 -1 -1]\n",
      " Irrigation Decision     : OFF\n",
      " Equipment Deployment    : DO NOT DEPLOY\n",
      "\n",
      "Sensor Input 6: [ 1  1 -1  1  1]\n",
      " Irrigation Decision     : ON\n",
      " Equipment Deployment    : DEPLOY\n",
      "\n"
     ]
    }
   ],
   "source": [
    "import numpy as np\n",
    "\n",
    "\n",
    "np.random.seed(0)\n",
    "\n",
    "# Helper Functions\n",
    "def bipolar(x):\n",
    "    return np.where(x >= 0, 1, -1)\n",
    "\n",
    "def forward_pass(x, w_hidden, b_hidden, w_output, b_output):\n",
    "    z = bipolar(np.dot(w_hidden, x) + b_hidden)\n",
    "    output = bipolar(np.dot(w_output, z) + b_output)\n",
    "    return output, z\n",
    "\n",
    "def train_madaline(X, Y, input_size, hidden_size=3, learning_rate=0.1, epochs=300):\n",
    "    # Initialize weights and biases\n",
    "    w_hidden = np.random.randn(hidden_size, input_size)\n",
    "    b_hidden = np.random.randn(hidden_size)\n",
    "    w_output = np.random.randn(hidden_size)\n",
    "    b_output = np.random.randn()\n",
    "\n",
    "    for epoch in range(epochs):\n",
    "        for i in range(len(X)):\n",
    "            x = X[i]\n",
    "            target = Y[i]\n",
    "            output, z = forward_pass(x, w_hidden, b_hidden, w_output, b_output)\n",
    "\n",
    "            if output != target:\n",
    "                for j in range(hidden_size):\n",
    "                    z_temp = z.copy()\n",
    "                    z_temp[j] *= -1  # Flip hidden node\n",
    "                    new_output = bipolar(np.dot(w_output, z_temp) + b_output)\n",
    "\n",
    "                    if new_output == target:\n",
    "                        \n",
    "                        w_hidden[j] += learning_rate * (target - z[j]) * x\n",
    "                        b_hidden[j] += learning_rate * (target - z[j])\n",
    "                        break\n",
    "\n",
    "    return w_hidden, b_hidden, w_output, b_output\n",
    "\n",
    "\n",
    "# Format: [Soil Moisture, Weather, Crop Water Need, Soil Condition, Crop Readiness]\n",
    "# Values: 1 = GOOD/HIGH/YES, -1 = BAD/LOW/NO\n",
    "sensor_data = np.array([\n",
    "    [1, 1, 1, 1, -1],     # Needs irrigation, not ready to deploy\n",
    "    [-1, 1, -1, 1, 1],    # No irrigation, deploy\n",
    "    [1, -1, 1, -1, 1],    # No irrigation, no deploy\n",
    "    [1, 1, 1, 1, 1],      # Irrigation and deploy\n",
    "    [-1, -1, -1, -1, -1], # No irrigation, no deploy\n",
    "    [1, 1, -1, 1, 1],     # Irrigation maybe, deploy\n",
    "])\n",
    "\n",
    "# Target outputs\n",
    "irrigation_targets = np.array([1, -1, -1, 1, -1, 1])     # ON = 1, OFF = -1\n",
    "equipment_targets  = np.array([-1, 1, -1, 1, -1, 1])     # DEPLOY = 1, DO NOT DEPLOY = -1\n",
    "\n",
    "# Feature selection\n",
    "X_irrigation = sensor_data[:, :3]       # Soil Moisture, Weather, Crop Water Need\n",
    "X_equipment  = sensor_data[:, [1, 3, 4]]  # Weather, Soil Condition, Crop Readiness\n",
    "\n",
    "# Train Both MADALINE Networks\n",
    "w1_irrig, b1_irrig, w2_irrig, b2_irrig = train_madaline(X_irrigation, irrigation_targets, input_size=3)\n",
    "w1_equip, b1_equip, w2_equip, b2_equip = train_madaline(X_equipment, equipment_targets, input_size=3)\n",
    "\n",
    "# Make Predictions\n",
    "print(\"\\n SMART FARMING DECISIONS \\n\")\n",
    "for i in range(len(sensor_data)):\n",
    "    irrig_input = X_irrigation[i]\n",
    "    equip_input = X_equipment[i]\n",
    "\n",
    "    irrig_output, _ = forward_pass(irrig_input, w1_irrig, b1_irrig, w2_irrig, b2_irrig)\n",
    "    equip_output, _ = forward_pass(equip_input, w1_equip, b1_equip, w2_equip, b2_equip)\n",
    "\n",
    "    print(f\"Sensor Input {i+1}: {sensor_data[i]}\")\n",
    "    print(f\" Irrigation Decision     : {'ON' if irrig_output == 1 else 'OFF'}\")\n",
    "    print(f\" Equipment Deployment    : {'DEPLOY' if equip_output == 1 else 'DO NOT DEPLOY'}\\n\")\n"
   ]
  },
  {
   "cell_type": "markdown",
   "id": "6d607d39",
   "metadata": {},
   "source": [
    "##### This program uses a MADALINE neural network to automate smart farming decisions based on sensor inputs. Each input vector contains environmental and operational parameters like soil moisture, crop readiness, and weather conditions, represented as +1 or -1. The system produces two binary decisions: whether to turn irrigation ON or OFF, and whether to deploy farm equipment or not. The network was trained to identify patterns where resource deployment is needed for efficiency or conservation. The results show accurate, rule-based outputs for various input combinations, demonstrating how MADALINE can support precision agriculture."
   ]
  },
  {
   "cell_type": "markdown",
   "id": "d70f0c1b",
   "metadata": {},
   "source": [
    "##### Program 2\n",
    "A startup named SmartFarm AI is building a solution for predicting crop yield to assist farmers in improving productivity. The startup has collected the following data from hundreds of farms over the last five years:"
   ]
  },
  {
   "cell_type": "code",
   "execution_count": 24,
   "id": "282740f1",
   "metadata": {},
   "outputs": [
    {
     "name": "stdout",
     "output_type": "stream",
     "text": [
      "\n",
      " REGRESSION RESULTS \n",
      "                  Loss Optimizer       MSE       MAE        R2\n",
      "0        squared_error       sgd  8.671102  2.128425  0.626842\n",
      "1        squared_error      adam  8.436788  2.122408  0.636926\n",
      "2  epsilon_insensitive       sgd  8.604840  2.230969  0.629694\n",
      "3  epsilon_insensitive      adam  8.390356  2.132270  0.638924\n",
      "\n",
      " CLASSIFICATION RESULTS \n",
      "       Loss Optimizer  Accuracy  Precision    Recall        F1\n",
      "0  log_loss       sgd      0.80   0.857143  0.666667  0.750000\n",
      "1  log_loss      adam      0.70   0.800000  0.444444  0.571429\n",
      "2     hinge       sgd      0.75   0.750000  0.666667  0.705882\n",
      "3     hinge      adam      0.70   0.800000  0.444444  0.571429\n"
     ]
    }
   ],
   "source": [
    "import numpy as np\n",
    "import pandas as pd\n",
    "import matplotlib.pyplot as plt\n",
    "from sklearn.preprocessing import StandardScaler, OneHotEncoder\n",
    "from sklearn.compose import ColumnTransformer\n",
    "from sklearn.model_selection import train_test_split\n",
    "from sklearn.linear_model import LinearRegression, SGDRegressor, SGDClassifier, LogisticRegression\n",
    "from sklearn.metrics import mean_squared_error, mean_absolute_error, r2_score, accuracy_score, precision_score, recall_score, f1_score\n",
    "\n",
    "# 1. Synthetic Dataset Generation\n",
    "np.random.seed(42)\n",
    "n = 100\n",
    "\n",
    "data = pd.DataFrame({\n",
    "    'Rainfall': np.random.normal(800, 100, n),\n",
    "    'AvgTemp': np.random.normal(25, 5, n),\n",
    "    'Soil_pH': np.random.normal(6.5, 0.5, n),\n",
    "    'Fertilizer': np.random.normal(150, 30, n),\n",
    "    'Pesticide': np.random.normal(20, 5, n),\n",
    "    'CropType': np.random.choice(['Wheat', 'Rice', 'Maize'], n)\n",
    "})\n",
    "\n",
    "# Simulate yield based on some logic\n",
    "base_yield = (\n",
    "    0.05 * data['Rainfall'] +\n",
    "    0.1 * data['Fertilizer'] -\n",
    "    0.05 * data['Pesticide'] +\n",
    "    0.2 * data['AvgTemp'] +\n",
    "    0.3 * (7 - abs(6.5 - data['Soil_pH']))\n",
    ")\n",
    "\n",
    "# Adjust for crop type\n",
    "crop_yield_modifier = {\n",
    "    'Wheat': 5,\n",
    "    'Rice': 10,\n",
    "    'Maize': 8\n",
    "}\n",
    "data['Yield'] = base_yield + data['CropType'].map(crop_yield_modifier) + np.random.normal(0, 3, n)\n",
    "\n",
    "# Add classification label\n",
    "data['YieldLabel'] = (data['Yield'] > data['Yield'].median()).astype(int)\n",
    "# 2. Preprocessing\n",
    "features = ['Rainfall', 'AvgTemp', 'Soil_pH', 'Fertilizer', 'Pesticide', 'CropType']\n",
    "X = data[features]\n",
    "y_reg = data['Yield']\n",
    "y_cls = data['YieldLabel']\n",
    "\n",
    "# One-hot encode CropType and normalize numeric columns\n",
    "preprocessor = ColumnTransformer([\n",
    "    (\"num\", StandardScaler(), ['Rainfall', 'AvgTemp', 'Soil_pH', 'Fertilizer', 'Pesticide']),\n",
    "    (\"cat\", OneHotEncoder(), ['CropType'])\n",
    "])\n",
    "\n",
    "X_processed = preprocessor.fit_transform(X)\n",
    "\n",
    "# Train-test split\n",
    "X_train_r, X_test_r, y_train_r, y_test_r = train_test_split(X_processed, y_reg, test_size=0.2, random_state=42)\n",
    "X_train_c, X_test_c, y_train_c, y_test_c = train_test_split(X_processed, y_cls, test_size=0.2, random_state=42)\n",
    "\n",
    "# 3. Regression Models\n",
    "regression_results = []\n",
    "\n",
    "# Loss functions: squared_loss (MSE), epsilon_insensitive (MAE-like)\n",
    "losses = ['squared_error', 'epsilon_insensitive']\n",
    "optimizers = ['sgd', 'adam']\n",
    "\n",
    "for loss in losses:\n",
    "    for opt in optimizers:\n",
    "        model = SGDRegressor(loss=loss, learning_rate='adaptive', eta0=0.01 if opt == 'sgd' else 0.001, max_iter=1000)\n",
    "        model.fit(X_train_r, y_train_r)\n",
    "        y_pred = model.predict(X_test_r)\n",
    "        regression_results.append({\n",
    "            'Loss': loss,\n",
    "            'Optimizer': opt,\n",
    "            'MSE': mean_squared_error(y_test_r, y_pred),\n",
    "            'MAE': mean_absolute_error(y_test_r, y_pred),\n",
    "            'R2': r2_score(y_test_r, y_pred)\n",
    "        })\n",
    "\n",
    "\n",
    "# 4. Classification Models\n",
    "classification_results = []\n",
    "\n",
    "# Loss functions: log (logistic), hinge (SVM)\n",
    "losses_cls = ['log_loss', 'hinge']\n",
    "for loss in losses_cls:\n",
    "    for opt in optimizers:\n",
    "        model = SGDClassifier(loss=loss, learning_rate='adaptive', eta0=0.01 if opt == 'sgd' else 0.001, max_iter=1000)\n",
    "        model.fit(X_train_c, y_train_c)\n",
    "        y_pred = model.predict(X_test_c)\n",
    "        classification_results.append({\n",
    "            'Loss': loss,\n",
    "            'Optimizer': opt,\n",
    "            'Accuracy': accuracy_score(y_test_c, y_pred),\n",
    "            'Precision': precision_score(y_test_c, y_pred),\n",
    "            'Recall': recall_score(y_test_c, y_pred),\n",
    "            'F1': f1_score(y_test_c, y_pred)\n",
    "        })\n",
    "\n",
    "# 5. Display Results\n",
    "print(\"\\n REGRESSION RESULTS \")\n",
    "reg_df = pd.DataFrame(regression_results)\n",
    "print(reg_df)\n",
    "\n",
    "print(\"\\n CLASSIFICATION RESULTS \")\n",
    "cls_df = pd.DataFrame(classification_results)\n",
    "print(cls_df)\n"
   ]
  },
  {
   "cell_type": "markdown",
   "id": "9029bc6e",
   "metadata": {},
   "source": [
    "####  The Chosen Loss Functions:\n",
    "For regression, the loss functions used were:\n",
    "\n",
    "squared_error\n",
    "\n",
    "epsilon_insensitive\n",
    "\n",
    "For classification, the loss functions tested were:\n",
    "\n",
    "log_loss\n",
    "\n",
    "hinge\n",
    "\n"
   ]
  },
  {
   "cell_type": "markdown",
   "id": "65862e19",
   "metadata": {},
   "source": [
    "#### Optimizers That Gave the Best Results:\n",
    "In the regression task, the best results (lowest MSE and highest R² score) were obtained using the adam optimizer with epsilon_insensitive loss.\n",
    "\n",
    "In the classification task, the highest accuracy and F1-score were achieved using the sgd optimizer with log_loss.\n",
    "\n"
   ]
  },
  {
   "cell_type": "markdown",
   "id": "2e5f7483",
   "metadata": {},
   "source": [
    "####  Practical Implications for the SmartFarm AI Team:\n",
    "For predicting exact crop yield, using adam with epsilon_insensitive provides better accuracy and generalization, making it suitable for yield forecasting tools.\n",
    "\n",
    "For quick decision-making (high vs. low yield), sgd with log_loss is more reliable, especially when working with limited computing resources.\n",
    "\n",
    "These insights help SmartFarm AI strike a balance between model performance and efficiency, enabling them to deploy practical and interpretable models for real-world farming scenarios."
   ]
  },
  {
   "cell_type": "code",
   "execution_count": 26,
   "id": "29ab8e56",
   "metadata": {},
   "outputs": [
    {
     "data": {
      "image/png": "[encoded data removed]",
      "text/plain": [
       "<Figure size 640x480 with 1 Axes>"
      ]
     },
     "metadata": {},
     "output_type": "display_data"
    }
   ],
   "source": [
    "# 6. Plot Results\n",
    "reg_df.plot(x='Loss', y=['MSE', 'MAE', 'R2'], kind='bar', title='Regression Metrics')\n",
    "plt.tight_layout()\n",
    "plt.show()"
   ]
  },
  {
   "cell_type": "markdown",
   "id": "492e735a",
   "metadata": {},
   "source": [
    "#### Interpretation of the Regression Metrics Plot:\n",
    "The bar chart visualizes the performance of different regression models across various loss functions (squared_error and epsilon_insensitive). It shows metrics including Mean Squared Error (MSE), Mean Absolute Error (MAE), and R² Score.\n",
    "\n",
    "MSE (blue bars): Slightly lower for epsilon_insensitive with Adam optimizer, indicating better accuracy in yield prediction.\n",
    "\n",
    "MAE (orange bars): Very consistent across all models, showing that the average prediction error is stable.\n",
    "\n",
    "R² Score (green bars): Highest for epsilon_insensitive models, especially when used with the Adam optimizer, confirming better model fit.\n",
    "\n",
    "Overall, the visual confirms that epsilon_insensitive with Adam offers the best combination of low error and good explanatory power among the tested combinations."
   ]
  },
  {
   "cell_type": "code",
   "execution_count": 27,
   "id": "d7398411",
   "metadata": {},
   "outputs": [
    {
     "data": {
      "image/png": "[encoded data removed]",
      "text/plain": [
       "<Figure size 640x480 with 1 Axes>"
      ]
     },
     "metadata": {},
     "output_type": "display_data"
    }
   ],
   "source": [
    "cls_df.plot(x='Loss', y=['Accuracy', 'Precision', 'Recall', 'F1'], kind='bar', title='Classification Metrics')\n",
    "plt.tight_layout()\n",
    "plt.show()"
   ]
  },
  {
   "cell_type": "markdown",
   "id": "2454ca84",
   "metadata": {},
   "source": [
    "#### Interpretation of the Classification Metrics Plot:\n",
    "This bar chart compares the performance of classification models using two loss functions: log_loss and hinge, each tested with two optimizers (SGD and Adam). The performance is evaluated using Accuracy, Precision, Recall, and F1-score.\n",
    "\n",
    "The log_loss with SGD optimizer performs best overall, showing the highest values across all four metrics, especially precision (0.86) and F1-score (0.75), indicating a balanced and reliable model.\n",
    "\n",
    "The log_loss and hinge models with Adam have noticeably lower recall and F1-scores, showing they may miss more low-yield predictions, making them less reliable.\n",
    "\n",
    "hinge with SGD performs moderately well, especially in precision and F1-score, showing it is a reasonable alternative when interpretability or simpler margins are preferred.\n",
    "\n",
    "In summary, log_loss with SGD is the most effective model for classification tasks, offering the best overall performance in distinguishing high and low crop yields."
   ]
  },
  {
   "cell_type": "markdown",
   "id": "964433e4",
   "metadata": {},
   "source": [
    "##### Program 3\n",
    "Imagine a two-wheeled robot navigating a simple maze. The robot uses two front-mounted infrared sensors,left sensor (L) and right sensor\n",
    "(R) to detect nearby obstacles. Each sensor gives a binary signal ‘0’-No obstacle, ’1’ Obstacle detected.Based on these inputs, the robot must decide whether to move forward or change direction. Train the Robot with MADALine neural network.Develop a console-based interactive application where the user enters sensor inputs, and the system predicts the robot's movement in real time."
   ]
  },
  {
   "cell_type": "code",
   "execution_count": 28,
   "id": "48b919b4",
   "metadata": {},
   "outputs": [
    {
     "name": "stdout",
     "output_type": "stream",
     "text": [
      "\n",
      "MADALINE Robot Navigation System\n",
      "Enter '0' or '1' for Left and Right sensor readings.\n",
      "Type 'exit' to quit.\n",
      "\n",
      "Action: Turn Left \n",
      "\n",
      "Action: Turn Right \n",
      "\n",
      "Action: Move Forward \n",
      "\n",
      "Action: Stop / Turn Back \n",
      "\n",
      "\n",
      "Exiting Robot Navigation.\n"
     ]
    }
   ],
   "source": [
    "import numpy as np\n",
    "\n",
    "def activation(x):\n",
    "    return 1 if x >= 0 else 0\n",
    "\n",
    "# Initialize weights and bias\n",
    "weights = np.random.rand(2)\n",
    "bias = np.random.rand()\n",
    "learning_rate = 0.1\n",
    "\n",
    "# Training data and targets\n",
    "inputs = np.array([\n",
    "    [0, 0],\n",
    "    [0, 1],\n",
    "    [1, 0],\n",
    "    [1, 1]\n",
    "])\n",
    "targets = np.array([1, 0, 0, 0])\n",
    "\n",
    "# Train MADALINE\n",
    "epochs = 50\n",
    "for epoch in range(epochs):\n",
    "    for i in range(len(inputs)):\n",
    "        x = inputs[i]\n",
    "        target = targets[i]\n",
    "        output = activation(np.dot(x, weights) + bias)\n",
    "        error = target - output\n",
    "        weights += learning_rate * error * x\n",
    "        bias += learning_rate * error\n",
    "\n",
    "# Console interaction with input validation\n",
    "print(\"\\nMADALINE Robot Navigation System\")\n",
    "print(\"Enter '0' or '1' for Left and Right sensor readings.\")\n",
    "print(\"Type 'exit' to quit.\\n\")\n",
    "\n",
    "def safe_input(prompt):\n",
    "    try:\n",
    "        val = input(prompt).strip().lower()\n",
    "        if val == 'exit':\n",
    "            return 'exit'\n",
    "        if val in ['0', '1']:\n",
    "            return int(val)\n",
    "        return None\n",
    "    except (EOFError, KeyboardInterrupt):\n",
    "        return 'exit'\n",
    "    except:\n",
    "        return None\n",
    "\n",
    "while True:\n",
    "    l = safe_input(\"Left Sensor (0=no obstacle, 1=obstacle): \")\n",
    "    if l == 'exit':\n",
    "        print(\"\\nExiting Robot Navigation.\")\n",
    "        break\n",
    "    elif l is None:\n",
    "        print(\"Invalid input! Please enter 0, 1, or 'exit'.\\n\")\n",
    "        continue\n",
    "\n",
    "    r = safe_input(\"Right Sensor (0=no obstacle, 1=obstacle): \")\n",
    "    if r == 'exit':\n",
    "        print(\"\\nExiting Robot Navigation.\")\n",
    "        break\n",
    "    elif r is None:\n",
    "        print(\"Invalid input! Please enter 0, 1, or 'exit'.\\n\")\n",
    "        continue\n",
    "\n",
    "    x = np.array([l, r])\n",
    "    result = activation(np.dot(x, weights) + bias)\n",
    "\n",
    "    if result == 1:\n",
    "        print(\"Action: Move Forward \\n\")\n",
    "    else:\n",
    "        if l == 1 and r == 0:\n",
    "            print(\"Action: Turn Right \\n\")\n",
    "        elif l == 0 and r == 1:\n",
    "            print(\"Action: Turn Left \\n\")\n",
    "        elif l == 1 and r == 1:\n",
    "            print(\"Action: Stop / Turn Back \\n\")\n"
   ]
  },
  {
   "cell_type": "markdown",
   "id": "165ff2af",
   "metadata": {},
   "source": [
    "#### \n",
    "The MADALINE (Multiple ADAptive LINear Elements) neural network was implemented to guide a two-wheeled robot using binary input from front-mounted infrared sensors. The robot makes movement decisions based on the presence of obstacles detected by the left and right sensors. The decision logic derived from training is as follows:\n",
    "\n",
    "Turn Left: Triggered when the right sensor detects an obstacle and the left does not.\n",
    "\n",
    "Turn Right: Triggered when the left sensor detects an obstacle and the right does not.\n",
    "\n",
    "Move Forward: Chosen when neither sensor detects an obstacle (safe to proceed).\n",
    "\n",
    "Stop / Turn Back: Activated when both sensors detect obstacles, indicating a blocked path.\n",
    "\n",
    "The system allows real-time interaction and exits cleanly upon receiving the \"exit\" command. This showcases a basic application of neural networks in robotics, demonstrating adaptive decision-making for autonomous navigation."
   ]
  }
 ],
 "metadata": {
  "kernelspec": {
   "display_name": "base",
   "language": "python",
   "name": "python3"
  },
  "language_info": {
   "codemirror_mode": {
    "name": "ipython",
    "version": 3
   },
   "file_extension": ".py",
   "mimetype": "text/x-python",
   "name": "python",
   "nbconvert_exporter": "python",
   "pygments_lexer": "ipython3",
   "version": "3.12.7"
  }
 },
 "nbformat": 4,
 "nbformat_minor": 5
}
