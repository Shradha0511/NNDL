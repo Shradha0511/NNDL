{
 "cells": [
  {
   "cell_type": "code",
   "execution_count": 5,
   "metadata": {},
   "outputs": [
    {
     "name": "stdout",
     "output_type": "stream",
     "text": [
      "Enter 1 for binary activation function \n",
      "Enter 2 for bipolar activation function \n",
      "Enter 3 for binary sigmoidal activation function \n",
      "Enter 4 for bipolar Sigmoidal activation function \n"
     ]
    }
   ],
   "source": [
    "#Q1\n",
    "print(\"Enter 1 for binary activation function \")\n",
    "print(\"Enter 2 for bipolar activation function \")\n",
    "print(\"Enter 3 for binary sigmoidal activation function \")\n",
    "print(\"Enter 4 for bipolar Sigmoidal activation function \")\n",
    "\n"
   ]
  },
  {
   "cell_type": "code",
   "execution_count": 6,
   "metadata": {},
   "outputs": [
    {
     "name": "stdout",
     "output_type": "stream",
     "text": [
      "0.44999999999999996\n",
      "The bipolar sigmoidal function is:  0.22125628110591644\n"
     ]
    }
   ],
   "source": [
    "choice=int(input(\"Enter the choice: \"))\n",
    "match choice:\n",
    "    case 1:\n",
    "        X1=float(input(\"enter x1 value: \"))\n",
    "        X2=float(input(\"enter x2 value: \"))\n",
    "        X3=float(input(\"Enter x3 value: \"))\n",
    "        W1=float(input(\"Enter w1 value: \"))\n",
    "        W2=float(input(\"Enter w2 value: \"))\n",
    "        W3=float(input(\"Enter w3 value: \"))\n",
    "        b=0.35\n",
    "        value=(X1*W1+X2*W2+X3*W3)+b\n",
    "        print(value)\n",
    "        if (value>0.5):\n",
    "            print(\"1\")\n",
    "        else:\n",
    "            print(\"0\")    \n",
    "    case 2:\n",
    "            X1=float(input(\"enter x1 value: \"))\n",
    "            X2=float(input(\"enter x2 value: \"))\n",
    "            X3=float(input(\"Enter x3 value: \"))\n",
    "            W1=float(input(\"Enter w1 value: \"))\n",
    "            W2=float(input(\"Enter w2 value: \"))\n",
    "            W3=float(input(\"Enter w3 value: \"))\n",
    "            b=0.35\n",
    "            value=(X1*W1+X2*W2+X3*W3)+b\n",
    "            print(value)\n",
    "            if (value>0.5):\n",
    "                print(\"1\")\n",
    "            else:\n",
    "                print(\"-1\") \n",
    "    case 3:   \n",
    "            X1=float(input(\"enter x1 value: \"))\n",
    "            X2=float(input(\"enter x2 value: \"))\n",
    "            X3=float(input(\"Enter x3 value: \"))\n",
    "            w1=float(input(\"Enter w1 value: \"))\n",
    "            W2=float(input(\"Enter w2 value: \"))\n",
    "            W3=float(input(\"Enter w3 value: \"))\n",
    "            b=0.35\n",
    "            value=(X1*W1+X2*W2+X3*W3)+b  \n",
    "            print(value)\n",
    "            biSigfn=1/(1+(2.71828**(-value)))   \n",
    "            print(\"The binary sigmoidal function is : \",bisigfn)    \n",
    "    case 4:   \n",
    "            X1=float(input(\"enter x1 value: \"))\n",
    "            X2=float(input(\"enter x2 value: \"))\n",
    "            X3=float(input(\"Enter x3 value: \"))\n",
    "            w1=float(input(\"Enter w1 value: \"))\n",
    "            W2=float(input(\"Enter w2 value: \"))\n",
    "            W3=float(input(\"Enter w3 value: \"))\n",
    "            b=0.35\n",
    "            value=(X1*W1+X2*W2+X3*W3)+b  \n",
    "            print(value)\n",
    "            bipSigfn=(2/(1+(2.71828**(-value))))-1   \n",
    "            print(\"The bipolar sigmoidal function is: \",bipSigfn)       \n"
   ]
  },
  {
   "cell_type": "code",
   "execution_count": 10,
   "metadata": {},
   "outputs": [
    {
     "name": "stdout",
     "output_type": "stream",
     "text": [
      "Final Weight1:  2\n",
      "Final Weight2:  2\n",
      "Final Bias:  -2\n"
     ]
    }
   ],
   "source": [
    "#Q2\n",
    "x1=[1,1,-1,-1]\n",
    "x2=[1,-1,1,-1]\n",
    "T=[1,-1,-1,-1]\n",
    "w1=0\n",
    "w2=0\n",
    "b=0\n",
    "alpha=1\n",
    "for i in range(len(T)):\n",
    "    Out=x1[i]*w1+x2[i]*w2 +b\n",
    "    if (Out!=T):\n",
    "        w1 = w1 + alpha * T[i] * x1[i]\n",
    "        w2 = w2 + alpha * T[i] * x2[i]\n",
    "        b = b + alpha * T[i]\n",
    "print(\"Final Weight1: \",w1)\n",
    "print(\"Final Weight2: \",w2)\n",
    "print(\"Final Bias: \",b)            \n",
    "\n"
   ]
  }
 ],
 "metadata": {
  "kernelspec": {
   "display_name": "Python 3",
   "language": "python",
   "name": "python3"
  },
  "language_info": {
   "codemirror_mode": {
    "name": "ipython",
    "version": 3
   },
   "file_extension": ".py",
   "mimetype": "text/x-python",
   "name": "python",
   "nbconvert_exporter": "python",
   "pygments_lexer": "ipython3",
   "version": "3.12.4"
  }
 },
 "nbformat": 4,
 "nbformat_minor": 2
}
